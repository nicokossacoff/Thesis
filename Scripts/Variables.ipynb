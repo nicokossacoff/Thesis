{
 "cells": [
  {
   "cell_type": "markdown",
   "metadata": {},
   "source": [
    "# Imports libraries"
   ]
  },
  {
   "cell_type": "code",
   "execution_count": null,
   "metadata": {},
   "outputs": [],
   "source": [
    "import pandas as pd\n",
    "import numpy as np\n",
    "import swifter\n",
    "from pathlib import Path\n",
    "import os\n",
    "import base64\n",
    "from requests import post, get\n",
    "import json "
   ]
  },
  {
   "cell_type": "markdown",
   "metadata": {},
   "source": [
    "# Dummy 1"
   ]
  },
  {
   "cell_type": "markdown",
   "metadata": {},
   "source": [
    "## Data loading and cleaning"
   ]
  },
  {
   "cell_type": "code",
   "execution_count": null,
   "metadata": {},
   "outputs": [],
   "source": [
    "def get_absolute_path(relative_path):\n",
    "    '''\n",
    "    Creates an absolute path based on a relative path provided\n",
    "    '''\n",
    "    try:\n",
    "        path = str(os.getcwd()).split(\"/\")\n",
    "        path = \"/\".join([i for i in path[:-1]])\n",
    "        absolute_path = path + \"/\" + relative_path\n",
    "        return absolute_path\n",
    "    except Exception as error:\n",
    "        print(error)\n",
    "        raise\n",
    "\n",
    "try:\n",
    "    ## Loads the dataset\n",
    "    path = get_absolute_path(r\"Data/charts.csv\")\n",
    "    df = pd.read_csv(path)\n",
    "\n",
    "    ## Drops duplicates\n",
    "    df.sort_values(by= [\"date\", \"position\"], inplace= True)\n",
    "    df.drop_duplicates(subset= [\"name\", \"position\", \"date\"], keep= \"first\", inplace= True)\n",
    "\n",
    "    ## Transform dates into datetime objects\n",
    "    df.date = pd.to_datetime(df.date)\n",
    "except Exception as error:\n",
    "    print(error)\n",
    "    raise"
   ]
  },
  {
   "cell_type": "code",
   "execution_count": null,
   "metadata": {},
   "outputs": [],
   "source": [
    "try:\n",
    "    artists = []\n",
    "    for (index, row) in df.iterrows():\n",
    "        artist = row.artists.replace(\"[\", \"\").replace(\"'\", \"\").replace(\"]\", \"\")\n",
    "        artist = artist.split(\",\")\n",
    "        artist = artist[0].strip()\n",
    "        artists.append(artist)\n",
    "\n",
    "    df.drop(columns= [\"artists\"], inplace= True)\n",
    "    df[\"artists\"] = artists\n",
    "except Exception as error:\n",
    "    print(error)\n",
    "    raise"
   ]
  },
  {
   "cell_type": "markdown",
   "metadata": {},
   "source": [
    "## Dummy"
   ]
  },
  {
   "cell_type": "code",
   "execution_count": null,
   "metadata": {},
   "outputs": [],
   "source": [
    "try:\n",
    "    variable = []\n",
    "    songs = {}\n",
    "    previous_date = {}\n",
    "\n",
    "    for date in df.date.unique():\n",
    "        temp_df = df.loc[(df.date == date)]\n",
    "        for (index, row) in temp_df.iterrows():\n",
    "            if row.name not in songs:\n",
    "                variable.append(0)\n",
    "                songs[row.name] = date\n",
    "            else:\n",
    "                if previous_date == songs.get(row.name):\n",
    "                    variable.append(1)\n",
    "                    songs[row.name] = date\n",
    "                elif previous_date != songs.get(row.name):\n",
    "                    variable.append(0)\n",
    "                    songs[row.name] = date\n",
    "        \n",
    "        previous_date = date\n",
    "\n",
    "    df[\"dummy_1\"] = variable\n",
    "except Exception as error:\n",
    "    print(error)\n",
    "    raise"
   ]
  },
  {
   "cell_type": "markdown",
   "metadata": {},
   "source": [
    "# Release Date"
   ]
  },
  {
   "cell_type": "code",
   "execution_count": null,
   "metadata": {},
   "outputs": [],
   "source": [
    "## Defines client credentials for the API and some functions\n",
    "## used to make the request\n",
    "client_id = '1435ba72a607475eab2e2184cabc2777'\n",
    "client_secret = '61951b1287e94f91bb4a57c664606e59'\n",
    "\n",
    "def get_token():\n",
    "    '''\n",
    "    Generates a token to make an API request\n",
    "    '''\n",
    "    auth_string= client_id + ':' + client_secret\n",
    "    auth_bytes = auth_string.encode('utf-8')\n",
    "    auth_base64 = str(base64.b64encode(auth_bytes), 'utf-8')\n",
    "\n",
    "    url = 'https://accounts.spotify.com/api/token'\n",
    "    headers = {\"Authorization\" : 'Basic '+ auth_base64,\n",
    "               'Content_type': 'application/x-www-form-urlencoded'\n",
    "               }\n",
    "    data = {'grant_type': 'client_credentials'}\n",
    "    result = post(url, headers = headers, data = data)\n",
    "    json_result = json.loads(result.content)\n",
    "    token = json_result['access_token']\n",
    "    return token\n",
    "\n",
    "def get_auth_header(token):\n",
    "    return {'Authorization': 'Bearer ' + token }\n",
    "\n",
    "def get_features(token, song_id):\n",
    "    '''\n",
    "    Retreives all the information based on the track ID passed\n",
    "    '''\n",
    "    url = f'https://api.spotify.com/v1/tracks/{song_id}?market=US'\n",
    "    headers = get_auth_header(token)\n",
    "    result = get(url , headers = headers)\n",
    "    json_result = json.loads(result.content)\n",
    "\n",
    "    return json_result\n",
    "\n",
    "token = get_token()"
   ]
  },
  {
   "cell_type": "code",
   "execution_count": null,
   "metadata": {},
   "outputs": [],
   "source": [
    "data = {\"track_id\": [], \"release_date\": []}\n",
    "for id in df.track_id.unique():\n",
    "    track = get_features(token, id)\n",
    "    data[\"track_id\"].append(id)\n",
    "    data[\"release_date\"].append(track[\"album\"][\"release_date\"])\n",
    "\n",
    "dates = pd.DataFrame(data= data)"
   ]
  }
 ],
 "metadata": {
  "kernelspec": {
   "display_name": "Python 3",
   "language": "python",
   "name": "python3"
  },
  "language_info": {
   "codemirror_mode": {
    "name": "ipython",
    "version": 3
   },
   "file_extension": ".py",
   "mimetype": "text/x-python",
   "name": "python",
   "nbconvert_exporter": "python",
   "pygments_lexer": "ipython3",
   "version": "3.11.0"
  }
 },
 "nbformat": 4,
 "nbformat_minor": 2
}
