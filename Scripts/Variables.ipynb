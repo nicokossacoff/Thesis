{
 "cells": [
  {
   "cell_type": "markdown",
   "metadata": {},
   "source": [
    "# Imports libraries"
   ]
  },
  {
   "cell_type": "code",
   "execution_count": null,
   "metadata": {},
   "outputs": [],
   "source": [
    "import pandas as pd\n",
    "import numpy as np\n",
    "import swifter\n",
    "from pathlib import Path\n",
    "import os\n",
    "import base64\n",
    "from requests import post , get\n",
    "import json "
   ]
  },
  {
   "cell_type": "markdown",
   "metadata": {},
   "source": [
    "# Dummy 1"
   ]
  },
  {
   "cell_type": "markdown",
   "metadata": {},
   "source": [
    "## Data loading and cleaning"
   ]
  },
  {
   "cell_type": "code",
   "execution_count": null,
   "metadata": {},
   "outputs": [],
   "source": [
    "def get_absolute_path(relative_path):\n",
    "    '''\n",
    "    Creates an absolute path based on a relative path provided\n",
    "    '''\n",
    "    try:\n",
    "        path = str(os.getcwd()).split(\"/\")\n",
    "        path = \"/\".join([i for i in path[:-1]])\n",
    "        absolute_path = path + \"/\" + relative_path\n",
    "        return absolute_path\n",
    "    except Exception as error:\n",
    "        print(error)\n",
    "        raise\n",
    "\n",
    "try:\n",
    "    ## Loads the dataset\n",
    "    path = get_absolute_path(r\"Data/charts.csv\")\n",
    "    df = pd.read_csv(path)\n",
    "\n",
    "    ## Drops duplicates\n",
    "    df.sort_values(by= [\"date\", \"position\"], inplace= True)\n",
    "    df.drop_duplicates(subset= [\"name\", \"position\", \"date\"], keep= \"first\", inplace= True)\n",
    "\n",
    "    ## Transform dates into datetime objects\n",
    "    df.date = pd.to_datetime(df.date)\n",
    "except Exception as error:\n",
    "    print(error)\n",
    "    raise"
   ]
  },
  {
   "cell_type": "code",
   "execution_count": null,
   "metadata": {},
   "outputs": [],
   "source": [
    "try:\n",
    "    artists = []\n",
    "    for (index, row) in df.iterrows():\n",
    "        artist = row.artists.replace(\"[\", \"\").replace(\"'\", \"\").replace(\"]\", \"\")\n",
    "        artist = artist.split(\",\")\n",
    "        artist = artist[0].strip()\n",
    "        artists.append(artist)\n",
    "\n",
    "    df.drop(columns= [\"artists\"], inplace= True)\n",
    "    df[\"artists\"] = artists\n",
    "except Exception as error:\n",
    "    print(error)\n",
    "    raise"
   ]
  },
  {
   "cell_type": "markdown",
   "metadata": {},
   "source": [
    "## Dummy"
   ]
  },
  {
   "cell_type": "code",
   "execution_count": null,
   "metadata": {},
   "outputs": [],
   "source": [
    "try:\n",
    "    variable = []\n",
    "    songs = {}\n",
    "    previous_date = {}\n",
    "\n",
    "    for date in df.date.unique():\n",
    "        temp_df = df.loc[(df.date == date)]\n",
    "        for (index, row) in temp_df.iterrows():\n",
    "            if row.name not in songs:\n",
    "                variable.append(0)\n",
    "                songs[row.name] = date\n",
    "            else:\n",
    "                if previous_date == songs.get(row.name):\n",
    "                    variable.append(1)\n",
    "                    songs[row.name] = date\n",
    "                elif previous_date != songs.get(row.name):\n",
    "                    variable.append(0)\n",
    "                    songs[row.name] = date\n",
    "        \n",
    "        previous_date = date\n",
    "\n",
    "    df[\"dummy_1\"] = variable\n",
    "\n",
    "    result = {\"Variable built successfully\": True}\n",
    "except Exception as error:\n",
    "    print(error)\n",
    "    raise"
   ]
  }
 ],
 "metadata": {
  "kernelspec": {
   "display_name": "Python 3",
   "language": "python",
   "name": "python3"
  },
  "language_info": {
   "codemirror_mode": {
    "name": "ipython",
    "version": 3
   },
   "file_extension": ".py",
   "mimetype": "text/x-python",
   "name": "python",
   "nbconvert_exporter": "python",
   "pygments_lexer": "ipython3",
   "version": "3.11.0"
  }
 },
 "nbformat": 4,
 "nbformat_minor": 2
}
